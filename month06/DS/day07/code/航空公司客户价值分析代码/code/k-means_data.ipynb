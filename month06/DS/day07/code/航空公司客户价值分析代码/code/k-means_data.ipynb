{
 "cells": [
  {
   "cell_type": "markdown",
   "metadata": {},
   "source": [
    "# 航空公司客户价值分析"
   ]
  },
  {
   "cell_type": "markdown",
   "metadata": {},
   "source": [
    "## 实验目的：<br>\n",
    "借助航空公司客户数据，对客户进行分类。<br>\n",
    "对不同的客户类别进行特征分析，比较不同类别客户的客户价值。<br>\n",
    "对不同价值的客户类别提供个性化服务，制定相应的营销策略。<br>"
   ]
  },
  {
   "cell_type": "markdown",
   "metadata": {},
   "source": [
    "### 读取数据，指定编码为gb18030"
   ]
  },
  {
   "cell_type": "code",
   "execution_count": 2,
   "metadata": {},
   "outputs": [],
   "source": [
    "import numpy as np\n",
    "import pandas as pd"
   ]
  },
  {
   "cell_type": "code",
   "execution_count": 5,
   "metadata": {},
   "outputs": [],
   "source": [
    "data = pd.read_csv('../data/air_data.csv', encoding='gb18030')"
   ]
  },
  {
   "cell_type": "markdown",
   "metadata": {},
   "source": [
    "<img src='../data/data1.png'>"
   ]
  },
  {
   "cell_type": "markdown",
   "metadata": {},
   "source": [
    "<img src='../data/data2.png'>"
   ]
  },
  {
   "cell_type": "markdown",
   "metadata": {},
   "source": [
    "### 数据描述性分析"
   ]
  },
  {
   "cell_type": "code",
   "execution_count": 6,
   "metadata": {},
   "outputs": [
    {
     "data": {
      "text/html": [
       "<div>\n",
       "<style scoped>\n",
       "    .dataframe tbody tr th:only-of-type {\n",
       "        vertical-align: middle;\n",
       "    }\n",
       "\n",
       "    .dataframe tbody tr th {\n",
       "        vertical-align: top;\n",
       "    }\n",
       "\n",
       "    .dataframe thead th {\n",
       "        text-align: right;\n",
       "    }\n",
       "</style>\n",
       "<table border=\"1\" class=\"dataframe\">\n",
       "  <thead>\n",
       "    <tr style=\"text-align: right;\">\n",
       "      <th></th>\n",
       "      <th>MEMBER_NO</th>\n",
       "      <th>FFP_TIER</th>\n",
       "      <th>AGE</th>\n",
       "      <th>FLIGHT_COUNT</th>\n",
       "      <th>BP_SUM</th>\n",
       "      <th>EP_SUM_YR_1</th>\n",
       "      <th>EP_SUM_YR_2</th>\n",
       "      <th>SUM_YR_1</th>\n",
       "      <th>SUM_YR_2</th>\n",
       "      <th>SEG_KM_SUM</th>\n",
       "      <th>...</th>\n",
       "      <th>ADD_Point_SUM</th>\n",
       "      <th>Eli_Add_Point_Sum</th>\n",
       "      <th>L1Y_ELi_Add_Points</th>\n",
       "      <th>Points_Sum</th>\n",
       "      <th>L1Y_Points_Sum</th>\n",
       "      <th>Ration_L1Y_Flight_Count</th>\n",
       "      <th>Ration_P1Y_Flight_Count</th>\n",
       "      <th>Ration_P1Y_BPS</th>\n",
       "      <th>Ration_L1Y_BPS</th>\n",
       "      <th>Point_NotFlight</th>\n",
       "    </tr>\n",
       "  </thead>\n",
       "  <tbody>\n",
       "    <tr>\n",
       "      <th>count</th>\n",
       "      <td>62988.000000</td>\n",
       "      <td>62988.000000</td>\n",
       "      <td>62568.000000</td>\n",
       "      <td>62988.000000</td>\n",
       "      <td>62988.000000</td>\n",
       "      <td>62988.0</td>\n",
       "      <td>62988.000000</td>\n",
       "      <td>62437.000000</td>\n",
       "      <td>62850.000000</td>\n",
       "      <td>62988.000000</td>\n",
       "      <td>...</td>\n",
       "      <td>62988.000000</td>\n",
       "      <td>62988.000000</td>\n",
       "      <td>62988.000000</td>\n",
       "      <td>62988.0000</td>\n",
       "      <td>62988.000000</td>\n",
       "      <td>62988.000000</td>\n",
       "      <td>62988.000000</td>\n",
       "      <td>62988.000000</td>\n",
       "      <td>62988.000000</td>\n",
       "      <td>62988.000000</td>\n",
       "    </tr>\n",
       "    <tr>\n",
       "      <th>mean</th>\n",
       "      <td>31494.500000</td>\n",
       "      <td>4.102162</td>\n",
       "      <td>42.476346</td>\n",
       "      <td>11.839414</td>\n",
       "      <td>10925.081254</td>\n",
       "      <td>0.0</td>\n",
       "      <td>265.689623</td>\n",
       "      <td>5355.376064</td>\n",
       "      <td>5604.026014</td>\n",
       "      <td>17123.878691</td>\n",
       "      <td>...</td>\n",
       "      <td>1355.006223</td>\n",
       "      <td>1620.695847</td>\n",
       "      <td>1080.378882</td>\n",
       "      <td>12545.7771</td>\n",
       "      <td>6638.739585</td>\n",
       "      <td>0.486419</td>\n",
       "      <td>0.513581</td>\n",
       "      <td>0.522293</td>\n",
       "      <td>0.468422</td>\n",
       "      <td>2.728155</td>\n",
       "    </tr>\n",
       "    <tr>\n",
       "      <th>std</th>\n",
       "      <td>18183.213715</td>\n",
       "      <td>0.373856</td>\n",
       "      <td>9.885915</td>\n",
       "      <td>14.049471</td>\n",
       "      <td>16339.486151</td>\n",
       "      <td>0.0</td>\n",
       "      <td>1645.702854</td>\n",
       "      <td>8109.450147</td>\n",
       "      <td>8703.364247</td>\n",
       "      <td>20960.844623</td>\n",
       "      <td>...</td>\n",
       "      <td>7868.477000</td>\n",
       "      <td>8294.398955</td>\n",
       "      <td>5639.857254</td>\n",
       "      <td>20507.8167</td>\n",
       "      <td>12601.819863</td>\n",
       "      <td>0.319105</td>\n",
       "      <td>0.319105</td>\n",
       "      <td>0.339632</td>\n",
       "      <td>0.338956</td>\n",
       "      <td>7.364164</td>\n",
       "    </tr>\n",
       "    <tr>\n",
       "      <th>min</th>\n",
       "      <td>1.000000</td>\n",
       "      <td>4.000000</td>\n",
       "      <td>6.000000</td>\n",
       "      <td>2.000000</td>\n",
       "      <td>0.000000</td>\n",
       "      <td>0.0</td>\n",
       "      <td>0.000000</td>\n",
       "      <td>0.000000</td>\n",
       "      <td>0.000000</td>\n",
       "      <td>368.000000</td>\n",
       "      <td>...</td>\n",
       "      <td>0.000000</td>\n",
       "      <td>0.000000</td>\n",
       "      <td>0.000000</td>\n",
       "      <td>0.0000</td>\n",
       "      <td>0.000000</td>\n",
       "      <td>0.000000</td>\n",
       "      <td>0.000000</td>\n",
       "      <td>0.000000</td>\n",
       "      <td>0.000000</td>\n",
       "      <td>0.000000</td>\n",
       "    </tr>\n",
       "    <tr>\n",
       "      <th>25%</th>\n",
       "      <td>15747.750000</td>\n",
       "      <td>4.000000</td>\n",
       "      <td>35.000000</td>\n",
       "      <td>3.000000</td>\n",
       "      <td>2518.000000</td>\n",
       "      <td>0.0</td>\n",
       "      <td>0.000000</td>\n",
       "      <td>1003.000000</td>\n",
       "      <td>780.000000</td>\n",
       "      <td>4747.000000</td>\n",
       "      <td>...</td>\n",
       "      <td>0.000000</td>\n",
       "      <td>0.000000</td>\n",
       "      <td>0.000000</td>\n",
       "      <td>2775.0000</td>\n",
       "      <td>700.000000</td>\n",
       "      <td>0.250000</td>\n",
       "      <td>0.288889</td>\n",
       "      <td>0.258150</td>\n",
       "      <td>0.167954</td>\n",
       "      <td>0.000000</td>\n",
       "    </tr>\n",
       "    <tr>\n",
       "      <th>50%</th>\n",
       "      <td>31494.500000</td>\n",
       "      <td>4.000000</td>\n",
       "      <td>41.000000</td>\n",
       "      <td>7.000000</td>\n",
       "      <td>5700.000000</td>\n",
       "      <td>0.0</td>\n",
       "      <td>0.000000</td>\n",
       "      <td>2800.000000</td>\n",
       "      <td>2773.000000</td>\n",
       "      <td>9994.000000</td>\n",
       "      <td>...</td>\n",
       "      <td>0.000000</td>\n",
       "      <td>0.000000</td>\n",
       "      <td>0.000000</td>\n",
       "      <td>6328.5000</td>\n",
       "      <td>2860.500000</td>\n",
       "      <td>0.500000</td>\n",
       "      <td>0.500000</td>\n",
       "      <td>0.514252</td>\n",
       "      <td>0.476747</td>\n",
       "      <td>0.000000</td>\n",
       "    </tr>\n",
       "    <tr>\n",
       "      <th>75%</th>\n",
       "      <td>47241.250000</td>\n",
       "      <td>4.000000</td>\n",
       "      <td>48.000000</td>\n",
       "      <td>15.000000</td>\n",
       "      <td>12831.000000</td>\n",
       "      <td>0.0</td>\n",
       "      <td>0.000000</td>\n",
       "      <td>6574.000000</td>\n",
       "      <td>6845.750000</td>\n",
       "      <td>21271.250000</td>\n",
       "      <td>...</td>\n",
       "      <td>0.000000</td>\n",
       "      <td>345.000000</td>\n",
       "      <td>0.000000</td>\n",
       "      <td>14302.5000</td>\n",
       "      <td>7500.000000</td>\n",
       "      <td>0.711111</td>\n",
       "      <td>0.750000</td>\n",
       "      <td>0.815091</td>\n",
       "      <td>0.728375</td>\n",
       "      <td>1.000000</td>\n",
       "    </tr>\n",
       "    <tr>\n",
       "      <th>max</th>\n",
       "      <td>62988.000000</td>\n",
       "      <td>6.000000</td>\n",
       "      <td>110.000000</td>\n",
       "      <td>213.000000</td>\n",
       "      <td>505308.000000</td>\n",
       "      <td>0.0</td>\n",
       "      <td>74460.000000</td>\n",
       "      <td>239560.000000</td>\n",
       "      <td>234188.000000</td>\n",
       "      <td>580717.000000</td>\n",
       "      <td>...</td>\n",
       "      <td>984938.000000</td>\n",
       "      <td>984938.000000</td>\n",
       "      <td>728282.000000</td>\n",
       "      <td>985572.0000</td>\n",
       "      <td>728282.000000</td>\n",
       "      <td>1.000000</td>\n",
       "      <td>1.000000</td>\n",
       "      <td>0.999989</td>\n",
       "      <td>0.999993</td>\n",
       "      <td>140.000000</td>\n",
       "    </tr>\n",
       "  </tbody>\n",
       "</table>\n",
       "<p>8 rows × 36 columns</p>\n",
       "</div>"
      ],
      "text/plain": [
       "          MEMBER_NO      FFP_TIER           AGE  FLIGHT_COUNT         BP_SUM  \\\n",
       "count  62988.000000  62988.000000  62568.000000  62988.000000   62988.000000   \n",
       "mean   31494.500000      4.102162     42.476346     11.839414   10925.081254   \n",
       "std    18183.213715      0.373856      9.885915     14.049471   16339.486151   \n",
       "min        1.000000      4.000000      6.000000      2.000000       0.000000   \n",
       "25%    15747.750000      4.000000     35.000000      3.000000    2518.000000   \n",
       "50%    31494.500000      4.000000     41.000000      7.000000    5700.000000   \n",
       "75%    47241.250000      4.000000     48.000000     15.000000   12831.000000   \n",
       "max    62988.000000      6.000000    110.000000    213.000000  505308.000000   \n",
       "\n",
       "       EP_SUM_YR_1   EP_SUM_YR_2       SUM_YR_1       SUM_YR_2     SEG_KM_SUM  \\\n",
       "count      62988.0  62988.000000   62437.000000   62850.000000   62988.000000   \n",
       "mean           0.0    265.689623    5355.376064    5604.026014   17123.878691   \n",
       "std            0.0   1645.702854    8109.450147    8703.364247   20960.844623   \n",
       "min            0.0      0.000000       0.000000       0.000000     368.000000   \n",
       "25%            0.0      0.000000    1003.000000     780.000000    4747.000000   \n",
       "50%            0.0      0.000000    2800.000000    2773.000000    9994.000000   \n",
       "75%            0.0      0.000000    6574.000000    6845.750000   21271.250000   \n",
       "max            0.0  74460.000000  239560.000000  234188.000000  580717.000000   \n",
       "\n",
       "       ...  ADD_Point_SUM  Eli_Add_Point_Sum  L1Y_ELi_Add_Points   Points_Sum  \\\n",
       "count  ...   62988.000000       62988.000000        62988.000000   62988.0000   \n",
       "mean   ...    1355.006223        1620.695847         1080.378882   12545.7771   \n",
       "std    ...    7868.477000        8294.398955         5639.857254   20507.8167   \n",
       "min    ...       0.000000           0.000000            0.000000       0.0000   \n",
       "25%    ...       0.000000           0.000000            0.000000    2775.0000   \n",
       "50%    ...       0.000000           0.000000            0.000000    6328.5000   \n",
       "75%    ...       0.000000         345.000000            0.000000   14302.5000   \n",
       "max    ...  984938.000000      984938.000000       728282.000000  985572.0000   \n",
       "\n",
       "       L1Y_Points_Sum  Ration_L1Y_Flight_Count  Ration_P1Y_Flight_Count  \\\n",
       "count    62988.000000             62988.000000             62988.000000   \n",
       "mean      6638.739585                 0.486419                 0.513581   \n",
       "std      12601.819863                 0.319105                 0.319105   \n",
       "min          0.000000                 0.000000                 0.000000   \n",
       "25%        700.000000                 0.250000                 0.288889   \n",
       "50%       2860.500000                 0.500000                 0.500000   \n",
       "75%       7500.000000                 0.711111                 0.750000   \n",
       "max     728282.000000                 1.000000                 1.000000   \n",
       "\n",
       "       Ration_P1Y_BPS  Ration_L1Y_BPS  Point_NotFlight  \n",
       "count    62988.000000    62988.000000     62988.000000  \n",
       "mean         0.522293        0.468422         2.728155  \n",
       "std          0.339632        0.338956         7.364164  \n",
       "min          0.000000        0.000000         0.000000  \n",
       "25%          0.258150        0.167954         0.000000  \n",
       "50%          0.514252        0.476747         0.000000  \n",
       "75%          0.815091        0.728375         1.000000  \n",
       "max          0.999989        0.999993       140.000000  \n",
       "\n",
       "[8 rows x 36 columns]"
      ]
     },
     "execution_count": 6,
     "metadata": {},
     "output_type": "execute_result"
    }
   ],
   "source": [
    "data.describe()"
   ]
  },
  {
   "cell_type": "markdown",
   "metadata": {},
   "source": [
    "### 数据预处理<br>\n",
    "#### 1. 去除票价为空的数据\n"
   ]
  },
  {
   "cell_type": "code",
   "execution_count": 7,
   "metadata": {},
   "outputs": [
    {
     "data": {
      "text/plain": [
       "(62299, 44)"
      ]
     },
     "execution_count": 7,
     "metadata": {},
     "output_type": "execute_result"
    }
   ],
   "source": [
    "exp1 = data['SUM_YR_1'].notnull()\n",
    "exp2 = data['SUM_YR_2'].notnull()\n",
    "exp = exp1 & exp2\n",
    "data_notnull = data.loc[exp, :]\n",
    "data_notnull.shape"
   ]
  },
  {
   "cell_type": "markdown",
   "metadata": {},
   "source": [
    "#### 2.只保留票价不为0，平均折扣率不为0，总飞行公里数大于0的记录。"
   ]
  },
  {
   "cell_type": "code",
   "execution_count": 10,
   "metadata": {},
   "outputs": [
    {
     "data": {
      "text/plain": [
       "(62044, 44)"
      ]
     },
     "execution_count": 10,
     "metadata": {},
     "output_type": "execute_result"
    }
   ],
   "source": [
    "index1 = data_notnull['SUM_YR_1'] != 0\n",
    "index2 = data_notnull['SUM_YR_2'] != 0\n",
    "index3 = (data_notnull['avg_discount'] != 0) & (data_notnull['SEG_KM_SUM'] > 0)\n",
    "data = data_notnull[(index1 | index2) & index3]\n",
    "data.shape"
   ]
  },
  {
   "cell_type": "markdown",
   "metadata": {},
   "source": [
    "### 构建特征"
   ]
  },
  {
   "cell_type": "markdown",
   "metadata": {},
   "source": [
    "<img src='../data/1.jpg'>"
   ]
  },
  {
   "cell_type": "markdown",
   "metadata": {},
   "source": [
    "L: LOAD_TIME  观测窗口的结束时间----FFP_DATE\t入会时间<br>\n",
    "R: LAST_TO_END  最后一次乘机时间至观测窗口结束时长<br>\n",
    "F: FLIGHT_COUNT 观测窗口内的飞行次数 <br>\n",
    "M: SEG_KM_SUM 观测窗口的总飞行公里数 <br>\n",
    "C: avg_discount 平均折扣率<br>\n"
   ]
  },
  {
   "cell_type": "code",
   "execution_count": 13,
   "metadata": {},
   "outputs": [
    {
     "data": {
      "text/html": [
       "<div>\n",
       "<style scoped>\n",
       "    .dataframe tbody tr th:only-of-type {\n",
       "        vertical-align: middle;\n",
       "    }\n",
       "\n",
       "    .dataframe tbody tr th {\n",
       "        vertical-align: top;\n",
       "    }\n",
       "\n",
       "    .dataframe thead th {\n",
       "        text-align: right;\n",
       "    }\n",
       "</style>\n",
       "<table border=\"1\" class=\"dataframe\">\n",
       "  <thead>\n",
       "    <tr style=\"text-align: right;\">\n",
       "      <th></th>\n",
       "      <th>LOAD_TIME</th>\n",
       "      <th>FFP_DATE</th>\n",
       "      <th>LAST_TO_END</th>\n",
       "      <th>FLIGHT_COUNT</th>\n",
       "      <th>SEG_KM_SUM</th>\n",
       "      <th>avg_discount</th>\n",
       "    </tr>\n",
       "  </thead>\n",
       "  <tbody>\n",
       "    <tr>\n",
       "      <th>0</th>\n",
       "      <td>2014/3/31</td>\n",
       "      <td>2006/11/2</td>\n",
       "      <td>1</td>\n",
       "      <td>210</td>\n",
       "      <td>580717</td>\n",
       "      <td>0.961639</td>\n",
       "    </tr>\n",
       "    <tr>\n",
       "      <th>1</th>\n",
       "      <td>2014/3/31</td>\n",
       "      <td>2007/2/19</td>\n",
       "      <td>7</td>\n",
       "      <td>140</td>\n",
       "      <td>293678</td>\n",
       "      <td>1.252314</td>\n",
       "    </tr>\n",
       "    <tr>\n",
       "      <th>2</th>\n",
       "      <td>2014/3/31</td>\n",
       "      <td>2007/2/1</td>\n",
       "      <td>11</td>\n",
       "      <td>135</td>\n",
       "      <td>283712</td>\n",
       "      <td>1.254676</td>\n",
       "    </tr>\n",
       "    <tr>\n",
       "      <th>3</th>\n",
       "      <td>2014/3/31</td>\n",
       "      <td>2008/8/22</td>\n",
       "      <td>97</td>\n",
       "      <td>23</td>\n",
       "      <td>281336</td>\n",
       "      <td>1.090870</td>\n",
       "    </tr>\n",
       "    <tr>\n",
       "      <th>4</th>\n",
       "      <td>2014/3/31</td>\n",
       "      <td>2009/4/10</td>\n",
       "      <td>5</td>\n",
       "      <td>152</td>\n",
       "      <td>309928</td>\n",
       "      <td>0.970658</td>\n",
       "    </tr>\n",
       "  </tbody>\n",
       "</table>\n",
       "</div>"
      ],
      "text/plain": [
       "   LOAD_TIME   FFP_DATE  LAST_TO_END  FLIGHT_COUNT  SEG_KM_SUM  avg_discount\n",
       "0  2014/3/31  2006/11/2            1           210      580717      0.961639\n",
       "1  2014/3/31  2007/2/19            7           140      293678      1.252314\n",
       "2  2014/3/31   2007/2/1           11           135      283712      1.254676\n",
       "3  2014/3/31  2008/8/22           97            23      281336      1.090870\n",
       "4  2014/3/31  2009/4/10            5           152      309928      0.970658"
      ]
     },
     "execution_count": 13,
     "metadata": {},
     "output_type": "execute_result"
    }
   ],
   "source": [
    "data_selection = data[['LOAD_TIME', 'FFP_DATE', 'LAST_TO_END', 'FLIGHT_COUNT', 'SEG_KM_SUM', 'avg_discount']]\n",
    "data_selection.head()"
   ]
  },
  {
   "cell_type": "code",
   "execution_count": 14,
   "metadata": {},
   "outputs": [
    {
     "name": "stdout",
     "output_type": "stream",
     "text": [
      "<class 'pandas.core.frame.DataFrame'>\n",
      "Int64Index: 62044 entries, 0 to 62978\n",
      "Data columns (total 6 columns):\n",
      " #   Column        Non-Null Count  Dtype  \n",
      "---  ------        --------------  -----  \n",
      " 0   LOAD_TIME     62044 non-null  object \n",
      " 1   FFP_DATE      62044 non-null  object \n",
      " 2   LAST_TO_END   62044 non-null  int64  \n",
      " 3   FLIGHT_COUNT  62044 non-null  int64  \n",
      " 4   SEG_KM_SUM    62044 non-null  int64  \n",
      " 5   avg_discount  62044 non-null  float64\n",
      "dtypes: float64(1), int64(3), object(2)\n",
      "memory usage: 3.3+ MB\n"
     ]
    }
   ],
   "source": [
    "data_selection.info()"
   ]
  },
  {
   "cell_type": "code",
   "execution_count": 15,
   "metadata": {},
   "outputs": [
    {
     "name": "stderr",
     "output_type": "stream",
     "text": [
      "/usr/local/lib/python3.6/dist-packages/ipykernel_launcher.py:2: SettingWithCopyWarning: \n",
      "A value is trying to be set on a copy of a slice from a DataFrame.\n",
      "Try using .loc[row_indexer,col_indexer] = value instead\n",
      "\n",
      "See the caveats in the documentation: https://pandas.pydata.org/pandas-docs/stable/user_guide/indexing.html#returning-a-view-versus-a-copy\n",
      "  \n",
      "/usr/local/lib/python3.6/dist-packages/ipykernel_launcher.py:3: SettingWithCopyWarning: \n",
      "A value is trying to be set on a copy of a slice from a DataFrame.\n",
      "Try using .loc[row_indexer,col_indexer] = value instead\n",
      "\n",
      "See the caveats in the documentation: https://pandas.pydata.org/pandas-docs/stable/user_guide/indexing.html#returning-a-view-versus-a-copy\n",
      "  This is separate from the ipykernel package so we can avoid doing imports until\n"
     ]
    }
   ],
   "source": [
    "# 数据类型的处理\n",
    "data_selection['LOAD_TIME'] = pd.to_datetime(data_selection['LOAD_TIME'])\n",
    "data_selection['FFP_DATE'] = pd.to_datetime(data_selection['FFP_DATE'])"
   ]
  },
  {
   "cell_type": "code",
   "execution_count": 16,
   "metadata": {},
   "outputs": [
    {
     "name": "stdout",
     "output_type": "stream",
     "text": [
      "<class 'pandas.core.frame.DataFrame'>\n",
      "Int64Index: 62044 entries, 0 to 62978\n",
      "Data columns (total 6 columns):\n",
      " #   Column        Non-Null Count  Dtype         \n",
      "---  ------        --------------  -----         \n",
      " 0   LOAD_TIME     62044 non-null  datetime64[ns]\n",
      " 1   FFP_DATE      62044 non-null  datetime64[ns]\n",
      " 2   LAST_TO_END   62044 non-null  int64         \n",
      " 3   FLIGHT_COUNT  62044 non-null  int64         \n",
      " 4   SEG_KM_SUM    62044 non-null  int64         \n",
      " 5   avg_discount  62044 non-null  float64       \n",
      "dtypes: datetime64[ns](2), float64(1), int64(3)\n",
      "memory usage: 3.3 MB\n"
     ]
    }
   ],
   "source": [
    "data_selection.info()"
   ]
  },
  {
   "cell_type": "code",
   "execution_count": 22,
   "metadata": {},
   "outputs": [
    {
     "data": {
      "text/plain": [
       "0         90.20\n",
       "1         86.57\n",
       "2         87.17\n",
       "3         68.23\n",
       "4         60.53\n",
       "          ...  \n",
       "62974    108.30\n",
       "62975     65.37\n",
       "62976     45.40\n",
       "62977     15.53\n",
       "62978     36.07\n",
       "Length: 62044, dtype: float64"
      ]
     },
     "execution_count": 22,
     "metadata": {},
     "output_type": "execute_result"
    }
   ],
   "source": [
    "# 构建L特征\n",
    "L = data_selection['LOAD_TIME'] - data_selection['FFP_DATE']\n",
    "# L\n",
    "L = L.astype('str').str.split().str[0]\n",
    "L = L.astype('int') / 30\n",
    "L = np.round(L, 2)\n",
    "L"
   ]
  },
  {
   "cell_type": "code",
   "execution_count": 23,
   "metadata": {},
   "outputs": [
    {
     "data": {
      "text/html": [
       "<div>\n",
       "<style scoped>\n",
       "    .dataframe tbody tr th:only-of-type {\n",
       "        vertical-align: middle;\n",
       "    }\n",
       "\n",
       "    .dataframe tbody tr th {\n",
       "        vertical-align: top;\n",
       "    }\n",
       "\n",
       "    .dataframe thead th {\n",
       "        text-align: right;\n",
       "    }\n",
       "</style>\n",
       "<table border=\"1\" class=\"dataframe\">\n",
       "  <thead>\n",
       "    <tr style=\"text-align: right;\">\n",
       "      <th></th>\n",
       "      <th>0</th>\n",
       "      <th>LAST_TO_END</th>\n",
       "      <th>FLIGHT_COUNT</th>\n",
       "      <th>SEG_KM_SUM</th>\n",
       "      <th>avg_discount</th>\n",
       "    </tr>\n",
       "  </thead>\n",
       "  <tbody>\n",
       "    <tr>\n",
       "      <th>0</th>\n",
       "      <td>90.20</td>\n",
       "      <td>1</td>\n",
       "      <td>210</td>\n",
       "      <td>580717</td>\n",
       "      <td>0.961639</td>\n",
       "    </tr>\n",
       "    <tr>\n",
       "      <th>1</th>\n",
       "      <td>86.57</td>\n",
       "      <td>7</td>\n",
       "      <td>140</td>\n",
       "      <td>293678</td>\n",
       "      <td>1.252314</td>\n",
       "    </tr>\n",
       "    <tr>\n",
       "      <th>2</th>\n",
       "      <td>87.17</td>\n",
       "      <td>11</td>\n",
       "      <td>135</td>\n",
       "      <td>283712</td>\n",
       "      <td>1.254676</td>\n",
       "    </tr>\n",
       "    <tr>\n",
       "      <th>3</th>\n",
       "      <td>68.23</td>\n",
       "      <td>97</td>\n",
       "      <td>23</td>\n",
       "      <td>281336</td>\n",
       "      <td>1.090870</td>\n",
       "    </tr>\n",
       "    <tr>\n",
       "      <th>4</th>\n",
       "      <td>60.53</td>\n",
       "      <td>5</td>\n",
       "      <td>152</td>\n",
       "      <td>309928</td>\n",
       "      <td>0.970658</td>\n",
       "    </tr>\n",
       "  </tbody>\n",
       "</table>\n",
       "</div>"
      ],
      "text/plain": [
       "       0  LAST_TO_END  FLIGHT_COUNT  SEG_KM_SUM  avg_discount\n",
       "0  90.20            1           210      580717      0.961639\n",
       "1  86.57            7           140      293678      1.252314\n",
       "2  87.17           11           135      283712      1.254676\n",
       "3  68.23           97            23      281336      1.090870\n",
       "4  60.53            5           152      309928      0.970658"
      ]
     },
     "execution_count": 23,
     "metadata": {},
     "output_type": "execute_result"
    }
   ],
   "source": [
    "# 合并特征\n",
    "data_feature = pd.concat(objs=[L, data_selection.iloc[:, 2:]], axis=1)\n",
    "data_feature.head()"
   ]
  },
  {
   "cell_type": "code",
   "execution_count": 24,
   "metadata": {},
   "outputs": [
    {
     "data": {
      "text/html": [
       "<div>\n",
       "<style scoped>\n",
       "    .dataframe tbody tr th:only-of-type {\n",
       "        vertical-align: middle;\n",
       "    }\n",
       "\n",
       "    .dataframe tbody tr th {\n",
       "        vertical-align: top;\n",
       "    }\n",
       "\n",
       "    .dataframe thead th {\n",
       "        text-align: right;\n",
       "    }\n",
       "</style>\n",
       "<table border=\"1\" class=\"dataframe\">\n",
       "  <thead>\n",
       "    <tr style=\"text-align: right;\">\n",
       "      <th></th>\n",
       "      <th>L</th>\n",
       "      <th>LAST_TO_END</th>\n",
       "      <th>FLIGHT_COUNT</th>\n",
       "      <th>SEG_KM_SUM</th>\n",
       "      <th>avg_discount</th>\n",
       "    </tr>\n",
       "  </thead>\n",
       "  <tbody>\n",
       "    <tr>\n",
       "      <th>0</th>\n",
       "      <td>90.20</td>\n",
       "      <td>1</td>\n",
       "      <td>210</td>\n",
       "      <td>580717</td>\n",
       "      <td>0.961639</td>\n",
       "    </tr>\n",
       "    <tr>\n",
       "      <th>1</th>\n",
       "      <td>86.57</td>\n",
       "      <td>7</td>\n",
       "      <td>140</td>\n",
       "      <td>293678</td>\n",
       "      <td>1.252314</td>\n",
       "    </tr>\n",
       "    <tr>\n",
       "      <th>2</th>\n",
       "      <td>87.17</td>\n",
       "      <td>11</td>\n",
       "      <td>135</td>\n",
       "      <td>283712</td>\n",
       "      <td>1.254676</td>\n",
       "    </tr>\n",
       "    <tr>\n",
       "      <th>3</th>\n",
       "      <td>68.23</td>\n",
       "      <td>97</td>\n",
       "      <td>23</td>\n",
       "      <td>281336</td>\n",
       "      <td>1.090870</td>\n",
       "    </tr>\n",
       "    <tr>\n",
       "      <th>4</th>\n",
       "      <td>60.53</td>\n",
       "      <td>5</td>\n",
       "      <td>152</td>\n",
       "      <td>309928</td>\n",
       "      <td>0.970658</td>\n",
       "    </tr>\n",
       "  </tbody>\n",
       "</table>\n",
       "</div>"
      ],
      "text/plain": [
       "       L  LAST_TO_END  FLIGHT_COUNT  SEG_KM_SUM  avg_discount\n",
       "0  90.20            1           210      580717      0.961639\n",
       "1  86.57            7           140      293678      1.252314\n",
       "2  87.17           11           135      283712      1.254676\n",
       "3  68.23           97            23      281336      1.090870\n",
       "4  60.53            5           152      309928      0.970658"
      ]
     },
     "execution_count": 24,
     "metadata": {},
     "output_type": "execute_result"
    }
   ],
   "source": [
    "data_feature = data_feature.rename(columns={0: 'L'})\n",
    "data_feature.head()"
   ]
  },
  {
   "cell_type": "markdown",
   "metadata": {},
   "source": [
    "### 数据标准化处理"
   ]
  },
  {
   "cell_type": "code",
   "execution_count": 25,
   "metadata": {},
   "outputs": [
    {
     "data": {
      "text/html": [
       "<div>\n",
       "<style scoped>\n",
       "    .dataframe tbody tr th:only-of-type {\n",
       "        vertical-align: middle;\n",
       "    }\n",
       "\n",
       "    .dataframe tbody tr th {\n",
       "        vertical-align: top;\n",
       "    }\n",
       "\n",
       "    .dataframe thead th {\n",
       "        text-align: right;\n",
       "    }\n",
       "</style>\n",
       "<table border=\"1\" class=\"dataframe\">\n",
       "  <thead>\n",
       "    <tr style=\"text-align: right;\">\n",
       "      <th></th>\n",
       "      <th>L</th>\n",
       "      <th>LAST_TO_END</th>\n",
       "      <th>FLIGHT_COUNT</th>\n",
       "      <th>SEG_KM_SUM</th>\n",
       "      <th>avg_discount</th>\n",
       "    </tr>\n",
       "  </thead>\n",
       "  <tbody>\n",
       "    <tr>\n",
       "      <th>0</th>\n",
       "      <td>1.435706</td>\n",
       "      <td>-0.944948</td>\n",
       "      <td>14.034016</td>\n",
       "      <td>26.761154</td>\n",
       "      <td>1.295540</td>\n",
       "    </tr>\n",
       "    <tr>\n",
       "      <th>1</th>\n",
       "      <td>1.307268</td>\n",
       "      <td>-0.911894</td>\n",
       "      <td>9.073213</td>\n",
       "      <td>13.126864</td>\n",
       "      <td>2.868176</td>\n",
       "    </tr>\n",
       "    <tr>\n",
       "      <th>2</th>\n",
       "      <td>1.328498</td>\n",
       "      <td>-0.889859</td>\n",
       "      <td>8.718869</td>\n",
       "      <td>12.653481</td>\n",
       "      <td>2.880950</td>\n",
       "    </tr>\n",
       "    <tr>\n",
       "      <th>3</th>\n",
       "      <td>0.658357</td>\n",
       "      <td>-0.416098</td>\n",
       "      <td>0.781585</td>\n",
       "      <td>12.540622</td>\n",
       "      <td>1.994714</td>\n",
       "    </tr>\n",
       "    <tr>\n",
       "      <th>4</th>\n",
       "      <td>0.385913</td>\n",
       "      <td>-0.922912</td>\n",
       "      <td>9.923636</td>\n",
       "      <td>13.898736</td>\n",
       "      <td>1.344335</td>\n",
       "    </tr>\n",
       "  </tbody>\n",
       "</table>\n",
       "</div>"
      ],
      "text/plain": [
       "          L  LAST_TO_END  FLIGHT_COUNT  SEG_KM_SUM  avg_discount\n",
       "0  1.435706    -0.944948     14.034016   26.761154      1.295540\n",
       "1  1.307268    -0.911894      9.073213   13.126864      2.868176\n",
       "2  1.328498    -0.889859      8.718869   12.653481      2.880950\n",
       "3  0.658357    -0.416098      0.781585   12.540622      1.994714\n",
       "4  0.385913    -0.922912      9.923636   13.898736      1.344335"
      ]
     },
     "execution_count": 25,
     "metadata": {},
     "output_type": "execute_result"
    }
   ],
   "source": [
    "data_feature_scaled = (data_feature - data_feature.mean()) / data_feature.std()\n",
    "data_feature_scaled.head()"
   ]
  },
  {
   "cell_type": "markdown",
   "metadata": {},
   "source": [
    "### 使用k均值构建模型"
   ]
  },
  {
   "cell_type": "code",
   "execution_count": 26,
   "metadata": {},
   "outputs": [
    {
     "data": {
      "text/plain": [
       "KMeans(algorithm='auto', copy_x=True, init='k-means++', max_iter=300,\n",
       "       n_clusters=5, n_init=10, n_jobs=None, precompute_distances='auto',\n",
       "       random_state=123, tol=0.0001, verbose=0)"
      ]
     },
     "execution_count": 26,
     "metadata": {},
     "output_type": "execute_result"
    }
   ],
   "source": [
    "# 导入算法\n",
    "from sklearn.cluster import KMeans\n",
    "# 确定聚类中心数量\n",
    "k = 5\n",
    "# 构建模型, 训练模型\n",
    "kmeans_model = KMeans(n_clusters=k, random_state=123).fit(data_feature_scaled)\n",
    "kmeans_model"
   ]
  },
  {
   "cell_type": "code",
   "execution_count": 27,
   "metadata": {},
   "outputs": [
    {
     "data": {
      "text/plain": [
       "array([1, 1, 1, ..., 4, 2, 2], dtype=int32)"
      ]
     },
     "execution_count": 27,
     "metadata": {},
     "output_type": "execute_result"
    }
   ],
   "source": [
    "# 得到每个样本数据的标签\n",
    "kmeans_model.labels_"
   ]
  },
  {
   "cell_type": "code",
   "execution_count": 29,
   "metadata": {},
   "outputs": [
    {
     "data": {
      "text/plain": [
       "4    24638\n",
       "3    15735\n",
       "2    12119\n",
       "1     5337\n",
       "0     4215\n",
       "dtype: int64"
      ]
     },
     "execution_count": 29,
     "metadata": {},
     "output_type": "execute_result"
    }
   ],
   "source": [
    "# 统计不同类别样本数目\n",
    "r1 = pd.Series(kmeans_model.labels_).value_counts()\n",
    "r1"
   ]
  },
  {
   "cell_type": "code",
   "execution_count": 28,
   "metadata": {},
   "outputs": [
    {
     "data": {
      "text/plain": [
       "array([[ 4.65625727e-02, -1.99113055e-03, -2.30142183e-01,\n",
       "        -2.34464735e-01,  2.17865520e+00],\n",
       "       [ 4.83657973e-01, -7.99400212e-01,  2.48317490e+00,\n",
       "         2.42445945e+00,  3.09237966e-01],\n",
       "       [-3.13368048e-01,  1.68669161e+00, -5.73935737e-01,\n",
       "        -5.36782673e-01, -1.74608430e-01],\n",
       "       [ 1.16084862e+00, -3.77377217e-01, -8.66405041e-02,\n",
       "        -9.45551300e-02, -1.56599649e-01],\n",
       "       [-7.00313344e-01, -4.15035589e-01, -1.60898126e-01,\n",
       "        -1.60646112e-01, -2.56723170e-01]])"
      ]
     },
     "execution_count": 28,
     "metadata": {},
     "output_type": "execute_result"
    }
   ],
   "source": [
    "# 得到每类样本的聚类中心\n",
    "kmeans_model.cluster_centers_"
   ]
  },
  {
   "cell_type": "code",
   "execution_count": 30,
   "metadata": {},
   "outputs": [],
   "source": [
    "csv_data = pd.DataFrame(kmeans_model.cluster_centers_)\n",
    "csv_data.to_csv('csv_data.csv')"
   ]
  },
  {
   "cell_type": "code",
   "execution_count": null,
   "metadata": {},
   "outputs": [],
   "source": []
  }
 ],
 "metadata": {
  "kernelspec": {
   "display_name": "Python 3",
   "language": "python",
   "name": "python3"
  },
  "language_info": {
   "codemirror_mode": {
    "name": "ipython",
    "version": 3
   },
   "file_extension": ".py",
   "mimetype": "text/x-python",
   "name": "python",
   "nbconvert_exporter": "python",
   "pygments_lexer": "ipython3",
   "version": "3.6.9"
  }
 },
 "nbformat": 4,
 "nbformat_minor": 2
}
